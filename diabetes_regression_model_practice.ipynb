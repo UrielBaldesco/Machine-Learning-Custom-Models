{
  "nbformat": 4,
  "nbformat_minor": 0,
  "metadata": {
    "colab": {
      "provenance": [],
      "gpuType": "T4"
    },
    "kernelspec": {
      "name": "python3",
      "display_name": "Python 3"
    },
    "language_info": {
      "name": "python"
    },
    "accelerator": "GPU"
  },
  "cells": [
    {
      "cell_type": "markdown",
      "source": [
        "# Regression Model with Diabetes Database"
      ],
      "metadata": {
        "id": "Rq1WGbeawgBI"
      }
    },
    {
      "cell_type": "code",
      "source": [
        "import os\n",
        "import pandas as pd\n",
        "import numpy as np\n",
        "from sklearn.linear_model import LogisticRegression"
      ],
      "metadata": {
        "id": "OabAsyc1wkwu"
      },
      "execution_count": 8,
      "outputs": []
    },
    {
      "cell_type": "code",
      "source": [
        "filename = os.path.join(os.getcwd(), \"diabetes.csv\")\n",
        "df = pd.read_csv(filename)\n",
        "print(df.head(5))\n",
        "print(df.shape)\n",
        "print(list(df.columns))"
      ],
      "metadata": {
        "colab": {
          "base_uri": "https://localhost:8080/"
        },
        "id": "QiNXzByEwtqQ",
        "outputId": "e5ae3806-8322-4450-c90b-b0e577261102"
      },
      "execution_count": 6,
      "outputs": [
        {
          "output_type": "stream",
          "name": "stdout",
          "text": [
            "   Pregnancies  Glucose  BloodPressure  SkinThickness  Insulin   BMI  \\\n",
            "0            6      148             72             35        0  33.6   \n",
            "1            1       85             66             29        0  26.6   \n",
            "2            8      183             64              0        0  23.3   \n",
            "3            1       89             66             23       94  28.1   \n",
            "4            0      137             40             35      168  43.1   \n",
            "\n",
            "   DiabetesPedigreeFunction  Age  Outcome  \n",
            "0                     0.627   50        1  \n",
            "1                     0.351   31        0  \n",
            "2                     0.672   32        1  \n",
            "3                     0.167   21        0  \n",
            "4                     2.288   33        1  \n",
            "(768, 9)\n",
            "['Pregnancies', 'Glucose', 'BloodPressure', 'SkinThickness', 'Insulin', 'BMI', 'DiabetesPedigreeFunction', 'Age', 'Outcome']\n"
          ]
        }
      ]
    },
    {
      "cell_type": "markdown",
      "source": [
        "* Target Variable is 'Outcome'\n",
        "* Features: Pregnancies, Glucose, BloodPressure, Skin Thickness, Insulin, BMI, Diabetes Pedigree Function\n",
        "\n",
        "Logistic Regression is used for low model complexity. Making predictions in medical data sets is best with logistic regression due to the small amount of patient data.\n",
        "\n",
        "Logistic Regression has a hyperparameter, C, that controls the complexity of the model. A higher C value = less regularization or high complexity. Smaller data sets means you should use lower C value to increase regularization (low complexity)"
      ],
      "metadata": {
        "id": "C-wYgEKOxDtQ"
      }
    },
    {
      "cell_type": "code",
      "source": [
        "class LogisticRegression_class(object):\n",
        "  def __init__(self, tolerance=10**-8, max_iterations=20):\n",
        "    self.tolerance=tolerance\n",
        "    self.max_iterations=max_iterations\n",
        "    self.weights_array=None\n",
        "    self.prior_w=None\n",
        "    self.weights=None\n",
        "    self.intercept=None\n",
        "  def predict_proba(self,X):\n",
        "    XW=X.dot(self.weights_array)\n",
        "    P=(1+np.exp(-1*XW))**-1\n",
        "    return P\n",
        "  def compute_gradient(self, X, Y, P):\n",
        "    G = -1*(Y-P).dot(X)\n",
        "    return G\n",
        "  def compute_hessian(self,X,P):\n",
        "    Q = P*(1-P)\n",
        "    XQ = X.T * Q\n",
        "    H = XQ.dot(X)\n",
        "    return H\n",
        "  def update_weights(self,X,y):\n",
        "    P = self.predict_proba(X)\n",
        "    G = self.compute_gradient(X, y, P)\n",
        "    H = self.compute_hessian(X, P)\n",
        "    self.prior_w = self.weights_array\n",
        "    self.weights_array = self.weights_array - np.linalg.inv(H).dot(G)\n",
        "  def check_stop(self):\n",
        "    w_old_norm = self.prior_w / np.linalg.norm(self.prior_w)\n",
        "    w_new_norm = self.weights_array / np.linalg.norm(self.weights_array)\n",
        "    diff = w_new_norm - w_old_norm\n",
        "    distance = np.sqrt(diff.dot(diff))\n",
        "    stop = (distance < self.tolerance)\n",
        "    return stop\n",
        "  def fit(self, X, y):\n",
        "    self.weights_array = np.zeros(X.shape[1] + 1)\n",
        "    self.weights_array[-1] = np.log(y.mean() / (1-y.mean()))\n",
        "    X_int = np.hstack((X, np.ones((X.shape[0],1))))\n",
        "    for i in range(self.max_iterations):\n",
        "      self.update_weights(X_int, y)\n",
        "      stop = self.check_stop()\n",
        "      if stop:\n",
        "        self.set_final_weights()\n",
        "        self.set_final_intercept()\n",
        "        break\n",
        "  def set_final_weights(self):\n",
        "    self.weights = self.weights_array[0:-1]\n",
        "  def set_final_intercept(self):\n",
        "    self.intercept = self.weights_array[-1]\n",
        "  def get_weights(self):\n",
        "    return self.weights\n",
        "  def get_intercept(self):\n",
        "    return self.intercept"
      ],
      "metadata": {
        "id": "BfR_PACQxSQi"
      },
      "execution_count": 22,
      "outputs": []
    },
    {
      "cell_type": "markdown",
      "source": [
        "* use the class to train a logistic regression model\n",
        "* train the model to predict if a new patient has diabetes based on diagnostic measurements"
      ],
      "metadata": {
        "id": "33XbCFUe1tlS"
      }
    },
    {
      "cell_type": "code",
      "source": [
        "filename = os.path.join(os.getcwd(), \"diabetes.csv\")\n",
        "df = pd.read_csv(filename, header=0)"
      ],
      "metadata": {
        "id": "i0CU--Jk1wJu"
      },
      "execution_count": 17,
      "outputs": []
    },
    {
      "cell_type": "code",
      "source": [
        "list(df.columns)\n",
        "feature_list=['Pregnancies',\n",
        " 'Glucose',\n",
        " 'BloodPressure',\n",
        " 'SkinThickness',\n",
        " 'Insulin',\n",
        " 'BMI',\n",
        " 'DiabetesPedigreeFunction',\n",
        " 'Age']"
      ],
      "metadata": {
        "id": "fquLLchR2Dxl"
      },
      "execution_count": 18,
      "outputs": []
    },
    {
      "cell_type": "code",
      "source": [
        "y = df['Outcome']\n",
        "X = df[feature_list]"
      ],
      "metadata": {
        "id": "NH69GNTx2Q4J"
      },
      "execution_count": 19,
      "outputs": []
    },
    {
      "cell_type": "code",
      "source": [
        "logistic_regression = LogisticRegression_class()\n",
        "logistic_regression.fit(X,y)\n",
        "print('The fitted weights and intercept are:')\n",
        "print(logistic_regression.get_weights(), logistic_regression.get_intercept())"
      ],
      "metadata": {
        "colab": {
          "base_uri": "https://localhost:8080/"
        },
        "id": "4gMRzJJR2hML",
        "outputId": "f3046e84-692f-4e34-d13c-2a3ec8a533ce"
      },
      "execution_count": 23,
      "outputs": [
        {
          "output_type": "stream",
          "name": "stdout",
          "text": [
            "The fitted weights and intercept are:\n",
            "[ 1.23182298e-01  3.51637146e-02 -1.32955469e-02  6.18964365e-04\n",
            " -1.19169898e-03  8.97009700e-02  9.45179741e-01  1.48690047e-02] -8.404696366914143\n"
          ]
        }
      ]
    },
    {
      "cell_type": "markdown",
      "source": [
        "**Compare with Scikit-Learn**"
      ],
      "metadata": {
        "id": "4t8rMJua4YNt"
      }
    },
    {
      "cell_type": "code",
      "source": [
        "logistic_regression_sk = LogisticRegression(C=10, max_iter=1000) #low C value due to small dataset\n",
        "logistic_regression_sk.fit(X,y)\n",
        "print('The fitted weights and intercept with sklearn are:')\n",
        "print(logistic_regression_sk.coef_, logistic_regression_sk.intercept_)"
      ],
      "metadata": {
        "colab": {
          "base_uri": "https://localhost:8080/"
        },
        "id": "4Cjk6IBv4bs5",
        "outputId": "b3129380-cfef-4529-83b5-a49b8fc19a1d"
      },
      "execution_count": 38,
      "outputs": [
        {
          "output_type": "stream",
          "name": "stdout",
          "text": [
            "The fitted weights and intercept with sklearn are:\n",
            "[[ 1.23095495e-01  3.51566751e-02 -1.32921400e-02  6.32825973e-04\n",
            "  -1.18910258e-03  8.96726059e-02  9.36476944e-01  1.48894762e-02]] [-8.39978871]\n"
          ]
        }
      ]
    },
    {
      "cell_type": "code",
      "source": [
        "%timeit logistic_regression.fit(df[feature_list], df['Outcome'])"
      ],
      "metadata": {
        "colab": {
          "base_uri": "https://localhost:8080/"
        },
        "id": "G85bGIXe4xh5",
        "outputId": "82298db7-1964-483e-d7fc-a36e4bf14b30"
      },
      "execution_count": 26,
      "outputs": [
        {
          "output_type": "stream",
          "name": "stdout",
          "text": [
            "3.47 ms ± 234 µs per loop (mean ± std. dev. of 7 runs, 100 loops each)\n"
          ]
        }
      ]
    },
    {
      "cell_type": "code",
      "source": [
        "%timeit logistic_regression_sk.fit(df[feature_list], df['Outcome'])"
      ],
      "metadata": {
        "colab": {
          "base_uri": "https://localhost:8080/"
        },
        "id": "05lfyse9427f",
        "outputId": "eb761d1c-f3b2-419e-ef2b-cd833ed1a379"
      },
      "execution_count": 37,
      "outputs": [
        {
          "output_type": "stream",
          "name": "stdout",
          "text": [
            "24 ms ± 1.23 ms per loop (mean ± std. dev. of 7 runs, 10 loops each)\n"
          ]
        }
      ]
    }
  ]
}